{
 "cells": [
  {
   "cell_type": "markdown",
   "metadata": {},
   "source": [
    "## 1. Loading the dataset and finding the nature and datatype of attributes"
   ]
  },
  {
   "cell_type": "code",
   "execution_count": 79,
   "metadata": {},
   "outputs": [
    {
     "data": {
      "text/html": [
       "<div>\n",
       "<style scoped>\n",
       "    .dataframe tbody tr th:only-of-type {\n",
       "        vertical-align: middle;\n",
       "    }\n",
       "\n",
       "    .dataframe tbody tr th {\n",
       "        vertical-align: top;\n",
       "    }\n",
       "\n",
       "    .dataframe thead th {\n",
       "        text-align: right;\n",
       "    }\n",
       "</style>\n",
       "<table border=\"1\" class=\"dataframe\">\n",
       "  <thead>\n",
       "    <tr style=\"text-align: right;\">\n",
       "      <th></th>\n",
       "      <th>Reading#</th>\n",
       "      <th>Mote ID</th>\n",
       "      <th>Humidity</th>\n",
       "      <th>Tepmrature</th>\n",
       "      <th>Label</th>\n",
       "    </tr>\n",
       "  </thead>\n",
       "  <tbody>\n",
       "    <tr>\n",
       "      <th>0</th>\n",
       "      <td>1.0</td>\n",
       "      <td>1.0</td>\n",
       "      <td>43.82</td>\n",
       "      <td>30.21</td>\n",
       "      <td>0.0</td>\n",
       "    </tr>\n",
       "    <tr>\n",
       "      <th>1</th>\n",
       "      <td>2.0</td>\n",
       "      <td>1.0</td>\n",
       "      <td>43.79</td>\n",
       "      <td>30.20</td>\n",
       "      <td>0.0</td>\n",
       "    </tr>\n",
       "    <tr>\n",
       "      <th>2</th>\n",
       "      <td>3.0</td>\n",
       "      <td>1.0</td>\n",
       "      <td>43.79</td>\n",
       "      <td>30.19</td>\n",
       "      <td>0.0</td>\n",
       "    </tr>\n",
       "    <tr>\n",
       "      <th>3</th>\n",
       "      <td>4.0</td>\n",
       "      <td>1.0</td>\n",
       "      <td>43.79</td>\n",
       "      <td>30.19</td>\n",
       "      <td>0.0</td>\n",
       "    </tr>\n",
       "    <tr>\n",
       "      <th>4</th>\n",
       "      <td>5.0</td>\n",
       "      <td>1.0</td>\n",
       "      <td>43.79</td>\n",
       "      <td>30.19</td>\n",
       "      <td>0.0</td>\n",
       "    </tr>\n",
       "  </tbody>\n",
       "</table>\n",
       "</div>"
      ],
      "text/plain": [
       "   Reading#  Mote ID  Humidity  Tepmrature  Label\n",
       "0       1.0      1.0     43.82       30.21    0.0\n",
       "1       2.0      1.0     43.79       30.20    0.0\n",
       "2       3.0      1.0     43.79       30.19    0.0\n",
       "3       4.0      1.0     43.79       30.19    0.0\n",
       "4       5.0      1.0     43.79       30.19    0.0"
      ]
     },
     "execution_count": 79,
     "metadata": {},
     "output_type": "execute_result"
    }
   ],
   "source": [
    "import numpy as np\n",
    "import pandas as pd\n",
    "dataset_load = pd.read_excel('./datasetcorrected.xlsx',header=2)\n",
    "dataset_load.head()"
   ]
  },
  {
   "cell_type": "code",
   "execution_count": 80,
   "metadata": {},
   "outputs": [
    {
     "name": "stdout",
     "output_type": "stream",
     "text": [
      "<class 'pandas.core.frame.DataFrame'>\n",
      "RangeIndex: 4700 entries, 0 to 4699\n",
      "Data columns (total 5 columns):\n",
      "Reading#      4690 non-null float64\n",
      "Mote ID       4690 non-null float64\n",
      "Humidity      4690 non-null float64\n",
      "Tepmrature    4690 non-null float64\n",
      "Label         4690 non-null float64\n",
      "dtypes: float64(5)\n",
      "memory usage: 183.7 KB\n"
     ]
    }
   ],
   "source": [
    "dataset_load.info()"
   ]
  },
  {
   "cell_type": "markdown",
   "metadata": {},
   "source": [
    "The above data contains 5 columns and the nature of the columns can be expressed in 2 categories which I have discussed briefly in above document. Other than that the datatype for the columns is float and maximum entries are non-null. The data problem is addressed in the Section Below."
   ]
  },
  {
   "cell_type": "markdown",
   "metadata": {},
   "source": [
    "## 2. Solving Data Problem"
   ]
  },
  {
   "cell_type": "markdown",
   "metadata": {},
   "source": [
    "### Checking Columns for Irregularities"
   ]
  },
  {
   "cell_type": "code",
   "execution_count": 81,
   "metadata": {},
   "outputs": [
    {
     "data": {
      "text/plain": [
       "Index(['Reading#', 'Mote ID', 'Humidity', 'Tepmrature', 'Label'], dtype='object')"
      ]
     },
     "execution_count": 81,
     "metadata": {},
     "output_type": "execute_result"
    }
   ],
   "source": [
    "dataset_load.columns"
   ]
  },
  {
   "cell_type": "markdown",
   "metadata": {},
   "source": [
    "### Correction of Reading# and temperature spelling"
   ]
  },
  {
   "cell_type": "code",
   "execution_count": 82,
   "metadata": {},
   "outputs": [
    {
     "data": {
      "text/html": [
       "<div>\n",
       "<style scoped>\n",
       "    .dataframe tbody tr th:only-of-type {\n",
       "        vertical-align: middle;\n",
       "    }\n",
       "\n",
       "    .dataframe tbody tr th {\n",
       "        vertical-align: top;\n",
       "    }\n",
       "\n",
       "    .dataframe thead th {\n",
       "        text-align: right;\n",
       "    }\n",
       "</style>\n",
       "<table border=\"1\" class=\"dataframe\">\n",
       "  <thead>\n",
       "    <tr style=\"text-align: right;\">\n",
       "      <th></th>\n",
       "      <th>Reading</th>\n",
       "      <th>Mote ID</th>\n",
       "      <th>Humidity</th>\n",
       "      <th>Temperature</th>\n",
       "      <th>Label</th>\n",
       "    </tr>\n",
       "  </thead>\n",
       "  <tbody>\n",
       "    <tr>\n",
       "      <th>0</th>\n",
       "      <td>1.0</td>\n",
       "      <td>1.0</td>\n",
       "      <td>43.82</td>\n",
       "      <td>30.21</td>\n",
       "      <td>0.0</td>\n",
       "    </tr>\n",
       "    <tr>\n",
       "      <th>1</th>\n",
       "      <td>2.0</td>\n",
       "      <td>1.0</td>\n",
       "      <td>43.79</td>\n",
       "      <td>30.20</td>\n",
       "      <td>0.0</td>\n",
       "    </tr>\n",
       "    <tr>\n",
       "      <th>2</th>\n",
       "      <td>3.0</td>\n",
       "      <td>1.0</td>\n",
       "      <td>43.79</td>\n",
       "      <td>30.19</td>\n",
       "      <td>0.0</td>\n",
       "    </tr>\n",
       "    <tr>\n",
       "      <th>3</th>\n",
       "      <td>4.0</td>\n",
       "      <td>1.0</td>\n",
       "      <td>43.79</td>\n",
       "      <td>30.19</td>\n",
       "      <td>0.0</td>\n",
       "    </tr>\n",
       "    <tr>\n",
       "      <th>4</th>\n",
       "      <td>5.0</td>\n",
       "      <td>1.0</td>\n",
       "      <td>43.79</td>\n",
       "      <td>30.19</td>\n",
       "      <td>0.0</td>\n",
       "    </tr>\n",
       "  </tbody>\n",
       "</table>\n",
       "</div>"
      ],
      "text/plain": [
       "   Reading  Mote ID  Humidity  Temperature  Label\n",
       "0      1.0      1.0     43.82        30.21    0.0\n",
       "1      2.0      1.0     43.79        30.20    0.0\n",
       "2      3.0      1.0     43.79        30.19    0.0\n",
       "3      4.0      1.0     43.79        30.19    0.0\n",
       "4      5.0      1.0     43.79        30.19    0.0"
      ]
     },
     "execution_count": 82,
     "metadata": {},
     "output_type": "execute_result"
    }
   ],
   "source": [
    "dataset_load.columns=[\"Reading\",\"Mote ID\",\"Humidity\",\"Temperature\",\"Label\"]\n",
    "dataset_load.head()"
   ]
  },
  {
   "cell_type": "markdown",
   "metadata": {},
   "source": [
    "### Checking the Missing Values in Dataset"
   ]
  },
  {
   "cell_type": "code",
   "execution_count": 83,
   "metadata": {},
   "outputs": [
    {
     "name": "stdout",
     "output_type": "stream",
     "text": [
      "Number of instances = 4700\n",
      "Number of attributes = 5\n",
      "Number of missing values:\n",
      "\tReading: 10\n",
      "\tMote ID: 10\n",
      "\tHumidity: 10\n",
      "\tTemperature: 10\n",
      "\tLabel: 10\n"
     ]
    }
   ],
   "source": [
    "dataset_load = dataset_load.replace('?',np.NaN)\n",
    "\n",
    "print('Number of instances = %d' % (dataset_load.shape[0]))\n",
    "print('Number of attributes = %d' % (dataset_load.shape[1]))\n",
    "\n",
    "print('Number of missing values:')\n",
    "for col in dataset_load.columns:\n",
    "    print('\\t%s: %d' % (col,dataset_load[col].isna().sum()))"
   ]
  },
  {
   "cell_type": "markdown",
   "metadata": {},
   "source": [
    "### Removing the missing values as we have equal number of missing values"
   ]
  },
  {
   "cell_type": "code",
   "execution_count": 84,
   "metadata": {},
   "outputs": [
    {
     "name": "stdout",
     "output_type": "stream",
     "text": [
      "Number of rows in original data = 4700\n",
      "Number of rows after discarding missing values = 4690\n"
     ]
    }
   ],
   "source": [
    "print('Number of rows in original data = %d' % (dataset_load.shape[0]))\n",
    "dataset_clean = dataset_load.dropna()\n",
    "print('Number of rows after discarding missing values = %d' % (dataset_clean.shape[0]))"
   ]
  },
  {
   "cell_type": "markdown",
   "metadata": {},
   "source": [
    "### Checking Duplicate data"
   ]
  },
  {
   "cell_type": "code",
   "execution_count": 85,
   "metadata": {},
   "outputs": [
    {
     "name": "stdout",
     "output_type": "stream",
     "text": [
      "Number of duplicate rows = 0\n"
     ]
    }
   ],
   "source": [
    "duplicated = dataset_clean.duplicated()\n",
    "print('Number of duplicate rows = %d' % (duplicated.sum()))"
   ]
  },
  {
   "cell_type": "markdown",
   "metadata": {},
   "source": [
    "### Outlier Detection using the Z-score criteria\n",
    "Here we check whether the z score is between -3 and 3"
   ]
  },
  {
   "cell_type": "code",
   "execution_count": 86,
   "metadata": {},
   "outputs": [
    {
     "name": "stdout",
     "output_type": "stream",
     "text": [
      "Before Outliers detection= 4690\n",
      "Discarded Outlier Values = 0\n"
     ]
    }
   ],
   "source": [
    "Z = (dataset_clean-dataset_clean.mean())/dataset_clean.std()\n",
    "print('Before Outliers detection= %d' % (Z.shape[0]))\n",
    "\n",
    "Z2 = Z.loc[((Z > -1.5).sum(axis=1)==9) & ((Z <= 1.5).sum(axis=1)==9),:]\n",
    "print('Discarded Outlier Values = %d' % (Z2.shape[0]))"
   ]
  },
  {
   "cell_type": "markdown",
   "metadata": {},
   "source": [
    "### Plotting The Dataset"
   ]
  },
  {
   "cell_type": "code",
   "execution_count": 87,
   "metadata": {},
   "outputs": [
    {
     "data": {
      "text/plain": [
       "<seaborn.axisgrid.FacetGrid at 0x229c2e53518>"
      ]
     },
     "execution_count": 87,
     "metadata": {},
     "output_type": "execute_result"
    },
    {
     "data": {
      "image/png": "[encoded data removed]",
      "text/plain": [
       "<Figure size 483.875x432 with 1 Axes>"
      ]
     },
     "metadata": {
      "needs_background": "light"
     },
     "output_type": "display_data"
    }
   ],
   "source": [
    "import matplotlib.pyplot as plt\n",
    "import seaborn as sns\n",
    "sns.lmplot(x='Humidity',y='Temperature',data=dataset_clean, hue='Label', palette='coolwarm', fit_reg=False, height=6, aspect=1)"
   ]
  },
  {
   "cell_type": "code",
   "execution_count": 88,
   "metadata": {},
   "outputs": [
    {
     "data": {
      "text/plain": [
       "<seaborn.axisgrid.FacetGrid at 0x229c2ebc400>"
      ]
     },
     "execution_count": 88,
     "metadata": {},
     "output_type": "execute_result"
    },
    {
     "data": {
      "image/png": "[encoded data removed]",
      "text/plain": [
       "<Figure size 864x288 with 1 Axes>"
      ]
     },
     "metadata": {
      "needs_background": "light"
     },
     "output_type": "display_data"
    }
   ],
   "source": [
    "humidity_bar = sns.FacetGrid(dataset_clean, hue='Label', height=4, aspect=3)\n",
    "humidity_bar.map(plt.hist,'Humidity',bins=20,alpha=0.7)"
   ]
  },
  {
   "cell_type": "code",
   "execution_count": 89,
   "metadata": {},
   "outputs": [
    {
     "data": {
      "text/plain": [
       "<seaborn.axisgrid.FacetGrid at 0x229c2ebc9b0>"
      ]
     },
     "execution_count": 89,
     "metadata": {},
     "output_type": "execute_result"
    },
    {
     "data": {
      "image/png": "[encoded data removed]",
      "text/plain": [
       "<Figure size 864x288 with 1 Axes>"
      ]
     },
     "metadata": {
      "needs_background": "light"
     },
     "output_type": "display_data"
    }
   ],
   "source": [
    "temperature_bar = sns.FacetGrid(dataset_clean, hue='Label', height=4, aspect=3)\n",
    "temperature_bar.map(plt.hist,'Temperature',bins=20,alpha=0.7)"
   ]
  },
  {
   "cell_type": "markdown",
   "metadata": {},
   "source": [
    "## Taking out the Label and Clustering the rest of Data with K-means Algorithm\n",
    "Here we are ruling out the data to be clustered and the actual value of label. This will help us to understand the accuracy of our algorithm. To increase the accuracy we have scaled our value in the range -1 to 1.Our values of temperature and pressure were large and we visualised the difference between various labels designated."
   ]
  },
  {
   "cell_type": "code",
   "execution_count": 210,
   "metadata": {},
   "outputs": [],
   "source": [
    "to_cluster = np.array(dataset_clean.drop(['Label'], 1).astype(float))\n",
    "label_value=np.array(dataset_clean['Label'])"
   ]
  },
  {
   "cell_type": "code",
   "execution_count": 211,
   "metadata": {},
   "outputs": [],
   "source": [
    "from sklearn.preprocessing import MinMaxScaler\n",
    "scaled_data = MinMaxScaler()\n",
    "to_cluster = scaled_data.fit_transform(to_cluster)"
   ]
  },
  {
   "cell_type": "code",
   "execution_count": 215,
   "metadata": {},
   "outputs": [
    {
     "data": {
      "text/plain": [
       "array([[0.72993365, 0.        , 0.49817576, 0.04706368, 0.        ],\n",
       "       [0.22998519, 0.        , 0.1289633 , 0.12817853, 0.        ]])"
      ]
     },
     "execution_count": 215,
     "metadata": {},
     "output_type": "execute_result"
    }
   ],
   "source": [
    "from sklearn.cluster import KMeans\n",
    "k_means_instance = KMeans(n_clusters = 2,max_iter=600,algorithm='full')\n",
    "k_means_instance.fit(to_cluster)\n",
    "k_means_instance.cluster_centers_"
   ]
  },
  {
   "cell_type": "markdown",
   "metadata": {},
   "source": [
    "### Accuracy Determination using Confusion matrix and Classification Report"
   ]
  },
  {
   "cell_type": "code",
   "execution_count": 216,
   "metadata": {},
   "outputs": [
    {
     "data": {
      "text/plain": [
       "array([[2478, 2154],\n",
       "       [  55,    3]], dtype=int64)"
      ]
     },
     "execution_count": 216,
     "metadata": {},
     "output_type": "execute_result"
    }
   ],
   "source": [
    "from sklearn.metrics import classification_report, confusion_matrix\n",
    "c_matrix=confusion_matrix(label_value,k_means_instance.labels_)\n",
    "c_matrix"
   ]
  },
  {
   "cell_type": "code",
   "execution_count": 217,
   "metadata": {},
   "outputs": [
    {
     "data": {
      "text/plain": [
       "52.89978678038379"
      ]
     },
     "execution_count": 217,
     "metadata": {},
     "output_type": "execute_result"
    }
   ],
   "source": [
    "sum_true= c_matrix[0][0]+c_matrix[1][1]\n",
    "sum_all = c_matrix[0][0]+c_matrix[0][1]+c_matrix[1][0]+c_matrix[1][1]\n",
    "accuracy= sum_true/sum_all\n",
    "accuracy*100"
   ]
  },
  {
   "cell_type": "markdown",
   "metadata": {},
   "source": [
    "Let us interpret the result provided by the above confusion Matrix. The matrix is in the way of True Negatives, False Positives and in second row False Negatives and true Positives.Thus when we infer this we have 4632 records of one label and 58 records of the other label.Thus for the first row or label we have 2478 records correctly labelled or correct True Negatives identified. 2154 was the false positive result. Whereas in the second row we have 55 False Positives and 1 True Negative. Overall , we have 2481 records correctly marked after clustering. More Information in the Document Above."
   ]
  },
  {
   "cell_type": "markdown",
   "metadata": {},
   "source": [
    "###  Evaluation of Anomaly Detection for K-Means Algorithm"
   ]
  },
  {
   "cell_type": "code",
   "execution_count": 116,
   "metadata": {},
   "outputs": [
    {
     "name": "stdout",
     "output_type": "stream",
     "text": [
      "              precision    recall  f1-score   support\n",
      "\n",
      "         0.0       0.98      0.53      0.69      4632\n",
      "         1.0       0.00      0.05      0.00        58\n",
      "\n",
      "   micro avg       0.53      0.53      0.53      4690\n",
      "   macro avg       0.49      0.29      0.35      4690\n",
      "weighted avg       0.97      0.53      0.68      4690\n",
      "\n"
     ]
    }
   ],
   "source": [
    "print(classification_report(label_value,k_means_instance.labels_))"
   ]
  },
  {
   "cell_type": "markdown",
   "metadata": {},
   "source": [
    "For the classification report we can see our positive prediction accuracy for both 0 and 1 labels. The amount of positive instances identified is in the recall and combininig both these metrics we get f1-score which is also at 68 percent overall. But the amount for the labels 1 is less due to the amount of records present for that particular label."
   ]
  },
  {
   "cell_type": "markdown",
   "metadata": {},
   "source": [
    "## Hierarchial Clustering Using Agglomerative Clustering\n",
    "Here we are choosing the temperature and humidity features as those are the important features for determination whether the data is normal or an anomaly"
   ]
  },
  {
   "cell_type": "code",
   "execution_count": 124,
   "metadata": {
    "scrolled": true
   },
   "outputs": [
    {
     "data": {
      "text/plain": [
       "array([[43.82, 30.21],\n",
       "       [43.79, 30.2 ],\n",
       "       [43.79, 30.19],\n",
       "       ...,\n",
       "       [73.23, 26.33],\n",
       "       [73.17, 26.33],\n",
       "       [73.15, 26.34]])"
      ]
     },
     "execution_count": 124,
     "metadata": {},
     "output_type": "execute_result"
    }
   ],
   "source": [
    "clustering_data=dataset_clean.iloc[:, 2:4].values\n",
    "clustering_data"
   ]
  },
  {
   "cell_type": "markdown",
   "metadata": {},
   "source": [
    "#### Scaling the dataset so that algorithm performance increases and the graphs can fit the model"
   ]
  },
  {
   "cell_type": "code",
   "execution_count": 148,
   "metadata": {},
   "outputs": [],
   "source": [
    "from sklearn.preprocessing import MinMaxScaler\n",
    "clustering_data_scaled = MinMaxScaler()\n",
    "clustering_data_scaled = scaled_data.fit_transform(clustering_data)"
   ]
  },
  {
   "cell_type": "markdown",
   "metadata": {},
   "source": [
    "### Plotting a dendogram for determination of clusters"
   ]
  },
  {
   "cell_type": "code",
   "execution_count": 149,
   "metadata": {},
   "outputs": [
    {
     "data": {
      "image/png": "[encoded data removed]",
      "text/plain": [
       "<Figure size 720x504 with 1 Axes>"
      ]
     },
     "metadata": {
      "needs_background": "light"
     },
     "output_type": "display_data"
    }
   ],
   "source": [
    "import scipy.cluster.hierarchy as clusterdiagram\n",
    "plt.figure(figsize=(10, 7))  \n",
    "plt.title(\"Temp/Humidity Dendograms\")  \n",
    "dend = clusterdiagram.dendrogram(shc.linkage(clustering_data_scaled, method='ward'))  "
   ]
  },
  {
   "cell_type": "markdown",
   "metadata": {},
   "source": [
    "### Applying Agglomerative clustering using the clusters found from the above step"
   ]
  },
  {
   "cell_type": "code",
   "execution_count": 218,
   "metadata": {},
   "outputs": [
    {
     "data": {
      "text/plain": [
       "array([0, 0, 0, ..., 1, 1, 1], dtype=int64)"
      ]
     },
     "execution_count": 218,
     "metadata": {},
     "output_type": "execute_result"
    }
   ],
   "source": [
    "from sklearn.cluster import AgglomerativeClustering\n",
    "\n",
    "cluster = AgglomerativeClustering(n_clusters=2, affinity='euclidean', linkage='ward')  \n",
    "cls=cluster.fit_predict(clustering_data_scaled)\n",
    "cls"
   ]
  },
  {
   "cell_type": "markdown",
   "metadata": {},
   "source": [
    "### Plotting the Agglomerative clusters on a graph"
   ]
  },
  {
   "cell_type": "code",
   "execution_count": 219,
   "metadata": {},
   "outputs": [
    {
     "data": {
      "text/plain": [
       "<matplotlib.collections.PathCollection at 0x229d7896c50>"
      ]
     },
     "execution_count": 219,
     "metadata": {},
     "output_type": "execute_result"
    },
    {
     "data": {
      "image/png": "[encoded data removed]",
      "text/plain": [
       "<Figure size 720x504 with 1 Axes>"
      ]
     },
     "metadata": {
      "needs_background": "light"
     },
     "output_type": "display_data"
    }
   ],
   "source": [
    "plt.figure(figsize=(10, 7))  \n",
    "plt.scatter(clustering_data_scaled[:,0], clustering_data_scaled[:,1], c=cluster.labels_, cmap='rainbow')"
   ]
  },
  {
   "cell_type": "markdown",
   "metadata": {},
   "source": [
    "### Determining the accuracy of the algorithm using the same confusion matrix and classification report"
   ]
  },
  {
   "cell_type": "code",
   "execution_count": 221,
   "metadata": {},
   "outputs": [
    {
     "data": {
      "text/plain": [
       "array([[2440, 2192],\n",
       "       [   5,   53]], dtype=int64)"
      ]
     },
     "execution_count": 221,
     "metadata": {},
     "output_type": "execute_result"
    }
   ],
   "source": [
    "from sklearn.metrics import classification_report, confusion_matrix\n",
    "c_matrix=confusion_matrix(np.array(dataset_clean['Label']),cls)\n",
    "c_matrix"
   ]
  },
  {
   "cell_type": "code",
   "execution_count": 222,
   "metadata": {},
   "outputs": [
    {
     "data": {
      "text/plain": [
       "53.15565031982943"
      ]
     },
     "execution_count": 222,
     "metadata": {},
     "output_type": "execute_result"
    }
   ],
   "source": [
    "sum_true= c_matrix[0][0]+c_matrix[1][1]\n",
    "sum_all = c_matrix[0][0]+c_matrix[0][1]+c_matrix[1][0]+c_matrix[1][1]\n",
    "accuracy= sum_true/sum_all\n",
    "accuracy*100"
   ]
  },
  {
   "cell_type": "markdown",
   "metadata": {},
   "source": [
    "Here we have 2493 positive results and 2197 negative results. In positive results we have true negatives and true positives whereas in false result we have false positive and false negative. "
   ]
  },
  {
   "cell_type": "markdown",
   "metadata": {},
   "source": [
    "###  Evaluation of Anomaly Detection for Agglomerative Algorithm"
   ]
  },
  {
   "cell_type": "code",
   "execution_count": 177,
   "metadata": {},
   "outputs": [
    {
     "name": "stdout",
     "output_type": "stream",
     "text": [
      "              precision    recall  f1-score   support\n",
      "\n",
      "         0.0       1.00      0.53      0.69      4632\n",
      "         1.0       0.02      0.91      0.05        58\n",
      "\n",
      "   micro avg       0.53      0.53      0.53      4690\n",
      "   macro avg       0.51      0.72      0.37      4690\n",
      "weighted avg       0.99      0.53      0.68      4690\n",
      "\n"
     ]
    }
   ],
   "source": [
    "print(classification_report(np.array(dataset_clean['Label']),cls))"
   ]
  },
  {
   "cell_type": "markdown",
   "metadata": {},
   "source": [
    "Here we have improved numbers for the precision, recall and the f1 score. especially the precision and f1 score have shown a noticable improvement. But we should also consider the fact that recall have shown improvement in the macro average. Overall the accuracy of this algorithm have improved."
   ]
  },
  {
   "cell_type": "markdown",
   "metadata": {},
   "source": [
    "## Applying DBSCAN algorithm with the previously scaled values"
   ]
  },
  {
   "cell_type": "code",
   "execution_count": 232,
   "metadata": {
    "scrolled": false
   },
   "outputs": [
    {
     "data": {
      "text/plain": [
       "array([0, 0, 0, ..., 0, 0, 0], dtype=int64)"
      ]
     },
     "execution_count": 232,
     "metadata": {},
     "output_type": "execute_result"
    }
   ],
   "source": [
    "from sklearn.cluster import DBSCAN\n",
    "dbs = DBSCAN(eps=0.2, metric='euclidean', min_samples=5)\n",
    "clusters = dbs.fit(clustering_data_scaled)\n",
    "clusters.labels_"
   ]
  },
  {
   "cell_type": "markdown",
   "metadata": {},
   "source": [
    "### Analysing the Principle Component and transforming the scaled data into PCA array"
   ]
  },
  {
   "cell_type": "code",
   "execution_count": 233,
   "metadata": {},
   "outputs": [
    {
     "data": {
      "text/plain": [
       "array([[-0.34056168,  0.01788037],\n",
       "       [-0.3410553 ,  0.01729849],\n",
       "       [-0.34095256,  0.01685464],\n",
       "       ...,\n",
       "       [ 0.28392451, -0.0190106 ],\n",
       "       [ 0.2827318 , -0.01928667],\n",
       "       [ 0.2822315 , -0.01893485]])"
      ]
     },
     "execution_count": 233,
     "metadata": {},
     "output_type": "execute_result"
    }
   ],
   "source": [
    "from sklearn.decomposition import PCA\n",
    "component_analysis = PCA(n_components=2).fit(clustering_data_scaled)\n",
    "analysed_components = pca.transform(clustering_data_scaled)\n",
    "analysed_components"
   ]
  },
  {
   "cell_type": "code",
   "execution_count": 234,
   "metadata": {},
   "outputs": [
    {
     "data": {
      "text/plain": [
       "(4690, 2)"
      ]
     },
     "execution_count": 234,
     "metadata": {},
     "output_type": "execute_result"
    }
   ],
   "source": [
    "analysed_components.shape"
   ]
  },
  {
   "cell_type": "markdown",
   "metadata": {},
   "source": [
    "### Plotting the Clusters found using DBSCAN algorithm with the help of PCA array and Visualising the Anomaly"
   ]
  },
  {
   "cell_type": "code",
   "execution_count": 247,
   "metadata": {},
   "outputs": [
    {
     "data": {
      "image/png": "[encoded data removed]",
      "text/plain": [
       "<Figure size 432x288 with 1 Axes>"
      ]
     },
     "metadata": {
      "needs_background": "light"
     },
     "output_type": "display_data"
    }
   ],
   "source": [
    "import matplotlib.pyplot as plt\n",
    "for i in range(0,analysed_components.shape[0]):\n",
    "    if clusters.labels_[i] == 0:\n",
    "        cluster1 = plt.scatter(analysed_components[i, 0], analysed_components[i, 1], c='black', marker='o')\n",
    "    elif clusters.labels_[i] == 1:\n",
    "        cluster2 = plt.scatter(analysed_components[i, 0], analysed_components[i, 1], c='blue', marker='o')\n",
    "    elif clusters.labels_[i] == -1:\n",
    "        cluster3 = plt.scatter(analysed_components[i, 0], analysed_components[i, 1], c='green', marker='*')\n",
    "plt.legend([cluster1, cluster2, cluster3], ['First Cluster', 'Second Cluster', 'Anomaly'])\n",
    "plt.title('Anomaly Detection Using DBSCAN')\n",
    "plt.show()"
   ]
  },
  {
   "cell_type": "markdown",
   "metadata": {},
   "source": [
    "### Calculating the accuracy using the same metric we used for other 2 Algorithms"
   ]
  },
  {
   "cell_type": "code",
   "execution_count": 238,
   "metadata": {},
   "outputs": [
    {
     "name": "stdout",
     "output_type": "stream",
     "text": [
      "[[   0    0    0]\n",
      " [   0 4632    0]\n",
      " [   5   53    0]]\n"
     ]
    }
   ],
   "source": [
    "from sklearn.metrics import classification_report, confusion_matrix\n",
    "print(confusion_matrix(np.array(dataset_clean['Label']),clusters.labels_))"
   ]
  },
  {
   "cell_type": "code",
   "execution_count": 242,
   "metadata": {},
   "outputs": [
    {
     "name": "stdout",
     "output_type": "stream",
     "text": [
      "              precision    recall  f1-score   support\n",
      "\n",
      "        -1.0       0.00      0.00      0.00         0\n",
      "         0.0       0.99      1.00      0.99      4632\n",
      "         1.0       0.00      0.00      0.00        58\n",
      "\n",
      "   micro avg       0.99      0.99      0.99      4690\n",
      "   macro avg       0.33      0.33      0.33      4690\n",
      "weighted avg       0.98      0.99      0.98      4690\n",
      "\n"
     ]
    },
    {
     "name": "stderr",
     "output_type": "stream",
     "text": [
      "C:\\Users\\chand\\Anaconda3\\lib\\site-packages\\sklearn\\metrics\\classification.py:1143: UndefinedMetricWarning: Precision and F-score are ill-defined and being set to 0.0 in labels with no predicted samples.\n",
      "  'precision', 'predicted', average, warn_for)\n",
      "C:\\Users\\chand\\Anaconda3\\lib\\site-packages\\sklearn\\metrics\\classification.py:1145: UndefinedMetricWarning: Recall and F-score are ill-defined and being set to 0.0 in labels with no true samples.\n",
      "  'recall', 'true', average, warn_for)\n",
      "C:\\Users\\chand\\Anaconda3\\lib\\site-packages\\sklearn\\metrics\\classification.py:1143: UndefinedMetricWarning: Precision and F-score are ill-defined and being set to 0.0 in labels with no predicted samples.\n",
      "  'precision', 'predicted', average, warn_for)\n",
      "C:\\Users\\chand\\Anaconda3\\lib\\site-packages\\sklearn\\metrics\\classification.py:1145: UndefinedMetricWarning: Recall and F-score are ill-defined and being set to 0.0 in labels with no true samples.\n",
      "  'recall', 'true', average, warn_for)\n",
      "C:\\Users\\chand\\Anaconda3\\lib\\site-packages\\sklearn\\metrics\\classification.py:1143: UndefinedMetricWarning: Precision and F-score are ill-defined and being set to 0.0 in labels with no predicted samples.\n",
      "  'precision', 'predicted', average, warn_for)\n",
      "C:\\Users\\chand\\Anaconda3\\lib\\site-packages\\sklearn\\metrics\\classification.py:1145: UndefinedMetricWarning: Recall and F-score are ill-defined and being set to 0.0 in labels with no true samples.\n",
      "  'recall', 'true', average, warn_for)\n"
     ]
    }
   ],
   "source": [
    "print(classification_report(np.array(dataset_clean['Label']),clusters.labels_))"
   ]
  },
  {
   "cell_type": "markdown",
   "metadata": {},
   "source": [
    "### Removing the Error and Getting fair values of Accuracy\n",
    "Here the labels were divided into 3 types which was causing the error as in actual data we have only 2 of the labels. Thus we are equalising the -1 labels which is an outlier with the label 1 which is the actual outlier data in the dataset."
   ]
  },
  {
   "cell_type": "code",
   "execution_count": 243,
   "metadata": {},
   "outputs": [],
   "source": [
    "cluster_array=[]\n",
    "for i in range(len(clusters.labels_)):\n",
    "    if clusters.labels_[i]== -1:\n",
    "        cluster_array.insert(i, 1)\n",
    "    else:\n",
    "        cluster_array.insert(i,clusters.labels_[i])"
   ]
  },
  {
   "cell_type": "markdown",
   "metadata": {},
   "source": [
    "### Calculating the accuracy again and checking the confusion matrix and classification report"
   ]
  },
  {
   "cell_type": "code",
   "execution_count": 244,
   "metadata": {},
   "outputs": [
    {
     "data": {
      "text/plain": [
       "array([[4632,    0],\n",
       "       [  53,    5]], dtype=int64)"
      ]
     },
     "execution_count": 244,
     "metadata": {},
     "output_type": "execute_result"
    }
   ],
   "source": [
    "c_matrix=confusion_matrix(np.array(dataset_clean['Label']),cluster_array)\n",
    "c_matrix"
   ]
  },
  {
   "cell_type": "code",
   "execution_count": 245,
   "metadata": {},
   "outputs": [
    {
     "data": {
      "text/plain": [
       "98.86993603411514"
      ]
     },
     "execution_count": 245,
     "metadata": {},
     "output_type": "execute_result"
    }
   ],
   "source": [
    "sum_true= c_matrix[0][0]+c_matrix[1][1]\n",
    "sum_all = c_matrix[0][0]+c_matrix[0][1]+c_matrix[1][0]+c_matrix[1][1]\n",
    "accuracy= sum_true/sum_all\n",
    "accuracy*100"
   ]
  },
  {
   "cell_type": "markdown",
   "metadata": {},
   "source": [
    "###  Evaluation of Anomaly Detection for DBSCAN Algorithm"
   ]
  },
  {
   "cell_type": "code",
   "execution_count": 246,
   "metadata": {},
   "outputs": [
    {
     "name": "stdout",
     "output_type": "stream",
     "text": [
      "              precision    recall  f1-score   support\n",
      "\n",
      "         0.0       0.99      1.00      0.99      4632\n",
      "         1.0       1.00      0.09      0.16        58\n",
      "\n",
      "   micro avg       0.99      0.99      0.99      4690\n",
      "   macro avg       0.99      0.54      0.58      4690\n",
      "weighted avg       0.99      0.99      0.98      4690\n",
      "\n"
     ]
    }
   ],
   "source": [
    "print(classification_report(np.array(dataset_clean['Label']),cluster_array))"
   ]
  },
  {
   "cell_type": "markdown",
   "metadata": {},
   "source": [
    "Classification report is much higher than the previous 2 algorithms and the recall , f1 score values have improved tremendously.But we have got this result on the basis that the outlier detected as -1 are all 1 in the actual data. If this is not the consideration this algorithm have shown improvement but until a certain extent only."
   ]
  }
 ],
 "metadata": {
  "kernelspec": {
   "display_name": "Python 3",
   "language": "python",
   "name": "python3"
  },
  "language_info": {
   "codemirror_mode": {
    "name": "ipython",
    "version": 3
   },
   "file_extension": ".py",
   "mimetype": "text/x-python",
   "name": "python",
   "nbconvert_exporter": "python",
   "pygments_lexer": "ipython3",
   "version": "3.6.8"
  }
 },
 "nbformat": 4,
 "nbformat_minor": 2
}
